{
 "cells": [
  {
   "cell_type": "markdown",
   "metadata": {},
   "source": [
    "### functon 1 讀取檔案\n",
    "input ： path, is_display(bool)\n",
    "\n",
    "\n",
    "output： 物件"
   ]
  },
  {
   "cell_type": "code",
   "execution_count": 52,
   "metadata": {},
   "outputs": [],
   "source": [
    "import os\n",
    "from OCC.Display.SimpleGui import init_display\n",
    "from OCC.Extend.DataExchange import read_iges_file\n",
    "\n",
    "def read_file(path, is_display=False):\n",
    "    \n",
    "    if os.path.exists(path):           # 防止路徑不存在\n",
    "        shapes = read_iges_file(path)  # 一定要用這個方法讀取\n",
    "    else:\n",
    "        print(\"檔案路徑錯誤！\")\n",
    "    \n",
    "    if is_display:\n",
    "        # 初始化 3D 顯示環境\n",
    "        display, start_display, add_menu, add_function_to_menu = init_display()\n",
    "        display.DisplayShape(shapes, update=True)\n",
    "        start_display()\n",
    "        \n",
    "    return shapes"
   ]
  },
  {
   "cell_type": "code",
   "execution_count": 74,
   "metadata": {},
   "outputs": [
    {
     "name": "stdout",
     "output_type": "stream",
     "text": [
      "type: <class 'list'>\n",
      "type: <class 'OCC.Core.TopoDS.TopoDS_Compound'>\n"
     ]
    }
   ],
   "source": [
    "path = r\"C:\\alan\\ITRI\\ITRI-test\\model\\simple_3.IGS\"#物件路徑\n",
    "object_1 = read_iges_file(path)\n",
    "print(\"type:\",type(object_1))  # 应输出 <class 'OCC.Core.TopoDS.TopoDS_Shape'>\n",
    "object_1=object_1[0]#如果type(model)=<class 'list'>就要加這行，正常應該是type: <class 'OCC.Core.TopoDS.TopoDS_Compound'>\n",
    "print(\"type:\",type(object_1))  # 应输出 <class 'OCC.Core.TopoDS.TopoDS_Shape'>"
   ]
  },
  {
   "cell_type": "markdown",
   "metadata": {},
   "source": [
    "### functon 2 分割物件平面\n",
    "input ： object, save_path, is_save(bool)\n",
    "\n",
    "output： 面 1 ~ 面 n"
   ]
  },
  {
   "cell_type": "code",
   "execution_count": 75,
   "metadata": {},
   "outputs": [],
   "source": [
    "import os\n",
    "from OCC.Core.TopExp import TopExp_Explorer\n",
    "from OCC.Core.TopoDS import topods\n",
    "from OCC.Core.TopAbs import TopAbs_FACE\n",
    "from OCC.Display.OCCViewer import OffscreenRenderer\n",
    "\n",
    "# 平面影像儲存路徑\n",
    "image_directory = r\"C:\\alan\\ITRI\\IRTI_path_generation\\Images\"\n",
    "\n",
    "def plane_segmentation(object, save_path, is_save=True):\n",
    "    \n",
    "    if not os.path.exists(save_path):        # 如果 save_path 不存在，則創建一個\n",
    "        os.makedirs(save_path)\n",
    "        \n",
    "    \n",
    "    explorer = TopExp_Explorer(object, TopAbs_FACE) # TopAbs_FACE 只對面感興趣\n",
    "    faces = []\n",
    "    index = 1\n",
    "    # 宣告一個渲彩器(不會顯示出來)\n",
    "    renderer = OffscreenRenderer()\n",
    "    renderer.Create()\n",
    "    \n",
    "    while explorer.More():\n",
    "        \n",
    "        face = topods.Face(explorer.Current())\n",
    "        faces.append(face)                     # 將當前的面儲存到 list 中\n",
    "        \n",
    "        renderer.EraseAll()\n",
    "        renderer.DisplayShape(face, update=True, color='BLUE', transparency=0.5)  # 可以調整顏色和透明度\n",
    "        renderer.FitAll()\n",
    "        \n",
    "        if is_save:\n",
    "            image_path = os.path.join(image_directory, f'object_face_{index}.png')            \n",
    "            renderer.View.Dump(image_path)\n",
    "            print(f'Saved image of face {index} to {image_path}')\n",
    "\n",
    "        index += 1\n",
    "        explorer.Next()                      # 移動到下一個面\n",
    "    \n",
    "    return faces"
   ]
  },
  {
   "cell_type": "code",
   "execution_count": 76,
   "metadata": {},
   "outputs": [
    {
     "name": "stdout",
     "output_type": "stream",
     "text": [
      "Many colors for color name BLUE, using first.\n",
      "OffscreenRenderer content dumped to c:\\alan\\ITRI\\IRTI_path_generation\\程式碼\\capture-1-1718613562.jpeg\n",
      "Saved image of face 1 to C:\\alan\\ITRI\\IRTI_path_generation\\Images\\object_face_1.png\n",
      "Many colors for color name BLUE, using first.\n",
      "OffscreenRenderer content dumped to c:\\alan\\ITRI\\IRTI_path_generation\\程式碼\\capture-2-1718613562.jpeg\n",
      "Saved image of face 2 to C:\\alan\\ITRI\\IRTI_path_generation\\Images\\object_face_2.png\n",
      "Many colors for color name BLUE, using first.\n",
      "OffscreenRenderer content dumped to c:\\alan\\ITRI\\IRTI_path_generation\\程式碼\\capture-3-1718613562.jpeg\n",
      "Saved image of face 3 to C:\\alan\\ITRI\\IRTI_path_generation\\Images\\object_face_3.png\n",
      "Many colors for color name BLUE, using first.\n",
      "OffscreenRenderer content dumped to c:\\alan\\ITRI\\IRTI_path_generation\\程式碼\\capture-4-1718613562.jpeg\n",
      "Saved image of face 4 to C:\\alan\\ITRI\\IRTI_path_generation\\Images\\object_face_4.png\n",
      "Many colors for color name BLUE, using first.\n",
      "OffscreenRenderer content dumped to c:\\alan\\ITRI\\IRTI_path_generation\\程式碼\\capture-5-1718613562.jpeg\n",
      "Saved image of face 5 to C:\\alan\\ITRI\\IRTI_path_generation\\Images\\object_face_5.png\n",
      "Many colors for color name BLUE, using first.\n",
      "OffscreenRenderer content dumped to c:\\alan\\ITRI\\IRTI_path_generation\\程式碼\\capture-6-1718613562.jpeg\n",
      "Saved image of face 6 to C:\\alan\\ITRI\\IRTI_path_generation\\Images\\object_face_6.png\n",
      "Many colors for color name BLUE, using first.\n",
      "OffscreenRenderer content dumped to c:\\alan\\ITRI\\IRTI_path_generation\\程式碼\\capture-7-1718613562.jpeg\n",
      "Saved image of face 7 to C:\\alan\\ITRI\\IRTI_path_generation\\Images\\object_face_7.png\n",
      "Many colors for color name BLUE, using first.\n",
      "OffscreenRenderer content dumped to c:\\alan\\ITRI\\IRTI_path_generation\\程式碼\\capture-8-1718613562.jpeg\n",
      "Saved image of face 8 to C:\\alan\\ITRI\\IRTI_path_generation\\Images\\object_face_8.png\n",
      "object_1 總共有 8 個物件\n"
     ]
    }
   ],
   "source": [
    "object_1_faces = plane_segmentation(object_1, image_directory)\n",
    "print(\"object_1 總共有\", len(object_1_faces), \"個物件\")"
   ]
  },
  {
   "cell_type": "markdown",
   "metadata": {},
   "source": [
    "### functon 3 平面+線段 生成 drive plane\n",
    "input ： 平面 選擇的邊線 \n",
    "\n",
    "output： 面 1 ~ 面 n"
   ]
  },
  {
   "cell_type": "code",
   "execution_count": 77,
   "metadata": {},
   "outputs": [],
   "source": [
    "## 計算線段曲率\n",
    "from OCC.Core.BRepLProp import BRepLProp_CLProps\n",
    "from OCC.Core.BRepAdaptor import BRepAdaptor_Curve\n",
    "from OCC.Core.GeomAPI import GeomAPI_ProjectPointOnSurf\n",
    "from OCC.Core.GCPnts import GCPnts_UniformAbscissa\n",
    "from OCC.Core.GCPnts import GCPnts_AbscissaPoint\n",
    "\n",
    "from OCC.Core.GeomLProp import GeomLProp_SLProps\n",
    "from OCC.Core.gp import gp_Pnt, gp_Vec\n",
    "\n",
    "def calculate_average_curvature(edge, curve_length, props, point_spacing, num_points=10):\n",
    "    # 將交線轉換成曲線\n",
    "    curve_adaptor = BRepAdaptor_Curve(edge)\n",
    "    first_param = curve_adaptor.FirstParameter() \n",
    "    last_param = curve_adaptor.LastParameter()   \n",
    "    num_points = int(curve_length / point_spacing) + 1\n",
    "    curvature_sum = 0\n",
    "    \n",
    "    for i in range(1, num_points - 1):  # 第一個跟最後一個點不算，怕有問題\n",
    "        param = first_param + i * (last_param - first_param) * point_spacing / curve_length \n",
    "        point = curve_adaptor.Value(param)                                                 # 依序得到座標(從UV轉為XYZ)\n",
    "        \"\"\"\n",
    "        它從你設計的這個面（比如一個彎曲的盾牌表面）中，取出它的數學模型，讓我們可以計算和操作它，例如測量它的彎曲程度或找到它的中心點等。\n",
    "        \"\"\"                                                 \n",
    "        surface_handle = BRep_Tool.Surface(face)                                           \n",
    "        projector = GeomAPI_ProjectPointOnSurf(point, surface_handle) ##在尋找如果從這個點垂直投影到曲面上，它會落在哪里\n",
    "        \n",
    "        if projector.NbPoints() > 0:  ##確保至少有一個投影點\n",
    "            \"\"\"\n",
    "            在曲面上，每個點都可以通過兩個參數（通常表示為 u 和 v）來定位。這些參數有點像地圖上的經緯度，它們告訴你這個點在曲面的「網格」上的位置。\n",
    "            \"\"\"\n",
    "            u, v = projector.LowerDistanceParameters()\n",
    "        props.SetParameters(u, v)     ##告訴分析器在曲面上的哪個點進行計算\n",
    "        if props.IsCurvatureDefined():\n",
    "            curvature = props.MaxCurvature()\n",
    "            \n",
    "            \n",
    "        curvature_sum += curvature    \n",
    "        \n",
    "    # if props.IsCurvatureDefined():\n",
    "        #     max_dir, min_dir = gp_Dir(), gp_Dir()\n",
    "        #     props.CurvatureDirections(max_dir, min_dir)\n",
    "        #     # 最大最小曲率的方向?\n",
    "        #     print(\"Direction of Maximum Curvature:\", max_dir.X(), max_dir.Y(), max_dir.Z())\n",
    "        #     print(\"Direction of Minimum Curvature:\", min_dir.X(), min_dir.Y(), min_dir.Z())\n",
    "\n",
    "    average_curvature = curvature_sum / (num_points - 2)  ## 計算平均曲率\n",
    "    # print(face_index + \"\\t\" + path_index + \"\\t\" + average_curvature)  \n",
    "    return average_curvature\n",
    "    "
   ]
  },
  {
   "cell_type": "code",
   "execution_count": 78,
   "metadata": {},
   "outputs": [],
   "source": [
    "from OCC.Core.GeomLProp import GeomLProp_SLProps\n",
    "from OCC.Core.gp import gp_Pnt, gp_Vec\n",
    "import math\n",
    "def calculate_suitable_plane_spacing(edge, curve_length, props, point_spacing, num_points=10, x=0.5):\n",
    "    # 將交線轉換成曲線\n",
    "    curve_adaptor = BRepAdaptor_Curve(edge)\n",
    "    first_param = curve_adaptor.FirstParameter() \n",
    "    last_param = curve_adaptor.LastParameter()   \n",
    "    num_points = int(curve_length / point_spacing) + 1\n",
    "    curvature_list = []\n",
    "    \n",
    "    for i in range(1, num_points - 1):  # 第一個跟最後一個點不算，怕有問題\n",
    "        param = first_param + i * (last_param - first_param) * point_spacing / curve_length \n",
    "        point = curve_adaptor.Value(param)                                                 # 依序得到座標(從UV轉為XYZ)\n",
    "        \"\"\"\n",
    "        它從你設計的這個面（比如一個彎曲的盾牌表面）中，取出它的數學模型，讓我們可以計算和操作它，例如測量它的彎曲程度或找到它的中心點等。\n",
    "        \"\"\"                                                 \n",
    "        surface_handle = BRep_Tool.Surface(face)                                           \n",
    "        projector = GeomAPI_ProjectPointOnSurf(point, surface_handle) ##在尋找如果從這個點垂直投影到曲面上，它會落在哪里\n",
    "        \n",
    "        if projector.NbPoints() > 0:  ##確保至少有一個投影點\n",
    "            \"\"\"\n",
    "            在曲面上，每個點都可以通過兩個參數（通常表示為 u 和 v）來定位。這些參數有點像地圖上的經緯度，它們告訴你這個點在曲面的「網格」上的位置。\n",
    "            \"\"\"\n",
    "            u, v = projector.LowerDistanceParameters()\n",
    "        props.SetParameters(u, v)     ##告訴分析器在曲面上的哪個點進行計算\n",
    "        if props.IsCurvatureDefined():\n",
    "            curvature = props.MaxCurvature()\n",
    "            \n",
    "            \n",
    "        curvature_list.append(curvature)    \n",
    "        \n",
    "    max_curvature = max(curvature_list) ## 得到曲線上的最大曲率\n",
    "    if max_curvature == 0:              ## 反推得到曲率半徑\n",
    "        min_radius = 1000           \n",
    "    else:\n",
    "        min_radius = 1. / max_curvature\n",
    "\n",
    "    min_spacing = math.sin(math.acos(1-(x/min_radius))) * 2 * min_radius  ## 得到最大容許長度\n",
    "    return min_spacing"
   ]
  },
  {
   "cell_type": "code",
   "execution_count": 58,
   "metadata": {},
   "outputs": [],
   "source": [
    "## 讀取所有邊驗的功能\n",
    "# from OCC.Core.TopoDS import topods_Edge\n",
    "# from OCC.Core.TopAbs import TopAbs_EDGE\n",
    "# from OCC.Core.BRepAdaptor import BRepAdaptor_Curve\n",
    "# from OCC.Core.BRep import BRep_Tool\n",
    "\n",
    "# def edges(face):\n",
    "#     edge_explorer = TopExp_Explorer(face, TopAbs_EDGE)\n",
    "#     edges = []\n",
    "#     while edge_explorer.More():\n",
    "        \n",
    "#         edge = topods_Edge(edge_explorer.Current())\n",
    "#         curve_adaptor = BRepAdaptor_Curve(edge)\n",
    "#         if curve_adaptor.GetType() == 0:\n",
    "#             selected_edge = edge\n",
    "#             return selected_edge\n",
    "#         edges.append(edge)\n",
    "#         edge_explorer.Next()\n",
    "    \n",
    "#     return edges[0]"
   ]
  },
  {
   "cell_type": "code",
   "execution_count": 79,
   "metadata": {},
   "outputs": [],
   "source": [
    "from OCC.Core.TopoDS import topods_Edge\n",
    "from OCC.Core.TopAbs import TopAbs_EDGE\n",
    "from OCC.Core.BRepAdaptor import BRepAdaptor_Curve\n",
    "from OCC.Core.BRep import BRep_Tool\n",
    "def edges(face):\n",
    "    edge_explorer = TopExp_Explorer(face, TopAbs_EDGE)\n",
    "    edges = []\n",
    "    selected_edges = []  # 用于存储符合条件的线段\n",
    "    \n",
    "    while edge_explorer.More():\n",
    "        edge = topods_Edge(edge_explorer.Current())\n",
    "        curve_adaptor = BRepAdaptor_Curve(edge)\n",
    "        if curve_adaptor.GetType() == 0:\n",
    "            selected_edges.append(edge)  # 存储符合条件的线段\n",
    "            if len(selected_edges) == 2:  # 如果找到了两条符合条件的线段\n",
    "                return selected_edges[1]  # 返回第二条\n",
    "        edges.append(edge)\n",
    "        edge_explorer.Next()\n",
    "    \n",
    "    # 如果找不到两条符合条件的线段，则返回 None 或根据需要处理\n",
    "    return None if len(selected_edges) < 2 else selected_edges[1]"
   ]
  },
  {
   "cell_type": "code",
   "execution_count": 80,
   "metadata": {},
   "outputs": [],
   "source": [
    "from OCC.Core.gp import gp_Pnt, gp_Dir, gp_Pln, gp_Vec\n",
    "from OCC.Core.BRepBuilderAPI import BRepBuilderAPI_MakeFace\n",
    "from OCC.Core.BRepAdaptor import BRepAdaptor_Curve\n",
    "from OCC.Core.GCPnts import GCPnts_UniformAbscissa\n",
    "from OCC.Display.SimpleGui import init_display\n",
    "from OCC.Core.BRepAlgoAPI import BRepAlgoAPI_Section\n",
    "from OCC.Core.TopExp import TopExp_Explorer\n",
    "from OCC.Core.TopoDS import topods_Face\n",
    "from OCC.Core.GCPnts import GCPnts_AbscissaPoint\n",
    "from OCC.Core.GCPnts import GCPnts_UniformAbscissa  \n",
    "from OCC.Core.BRepLProp import BRepLProp_SLProps\n",
    "from OCC.Core.BRepAdaptor import BRepAdaptor_Surface\n",
    "from OCC.Core.GeomAPI import GeomAPI_ProjectPointOnSurf\n",
    "from OCC.Core.BRep import BRep_Tool\n",
    "from OCC.Core.TopAbs import TopAbs_FACE, TopAbs_REVERSED"
   ]
  },
  {
   "cell_type": "code",
   "execution_count": 81,
   "metadata": {},
   "outputs": [],
   "source": [
    "def calculate_section(face, length, curve_adaptor, name = '', plane_spacing = 10.0, point_spacing = 5.0, is_save=True, is_display=False):\n",
    "    \"\"\"\n",
    "    可以更容易地獲取這個面的各種幾何信息，比如曲面的尺寸、形狀、位置等，並且可以更方便地執行一些複雜的操作，如計算曲率等。\n",
    "    \"\"\"\n",
    "    adaptor_surface = BRepAdaptor_Surface(face, True) \n",
    "    props = BRepLProp_SLProps(adaptor_surface, 2, 0.01)  # 這個分析器被配置為能夠計算高達二階導數的幾何性質（這由第二個參數指定，此處為 2），這意味著它能夠計算曲率等性質\n",
    "    num_planes = int(length / plane_spacing) + 1\n",
    "    path_index = 0\n",
    "    \n",
    "    if length % plane_spacing != 0:\n",
    "        iter_plane = num_planes + 1\n",
    "    else:\n",
    "        iter_plane = num_planes\n",
    "    \n",
    "    for i in range(0, iter_plane):\n",
    "        path_index += 1\n",
    "        u = curve_adaptor.FirstParameter() + i * plane_spacing\n",
    "        if u >= curve_adaptor.LastParameter():\n",
    "            u = curve_adaptor.LastParameter()\n",
    "        pnt = curve_adaptor.Value(u)           ## 得到XYZ座標\n",
    "        tangent_vector = curve_adaptor.DN(u, 1).Normalized() ##  tangent_vector。DN(u, 1) 表示取得曲線在 u 點的第一階導數（即切向量），並且通過 Normalized() 函數將此向量標準化\n",
    "        tangent_dir = gp_Dir(tangent_vector)  #表示為一個方向，不具備長度\n",
    "        \n",
    "        perpendicular_plane = gp_Pln(pnt, tangent_dir)   ##定義一個幾何平面，用點跟法向量，無限大的平面\n",
    "        \n",
    "        # if is_display:\n",
    "        #     perpendicular_face = BRepBuilderAPI_MakeFace(perpendicular_plane, -110, 110, -110, 110).Face()\n",
    "        #     display.DisplayShape(perpendicular_face, update=True, color='RED', transparency=0.9)\n",
    "            \n",
    "        section = BRepAlgoAPI_Section(face, perpendicular_plane, False) #用於計算兩個B-Rep幾何實體之間交集的物件\n",
    "        \"\"\"\n",
    "        具體來說，當你對兩個幾何形體（例如，兩個面）進行交集操作來查找它們的交界線時，ComputePCurveOn1(True) 指示算法在第一個面上計算這條交界線的投影。\n",
    "        這意味著它將生成一個參數化曲線，描述交界線如何在第一個面的局部坐標系中行進\n",
    "        \"\"\"\n",
    "        section.ComputePCurveOn1(True)\n",
    "        section.Build()\n",
    "        \n",
    "        if section.IsDone() :\n",
    "            intersection_shape = section.Shape()\n",
    "            if is_display:\n",
    "                display.DisplayShape(intersection_shape, update=True, color='GREEN')\n",
    "                \n",
    "            explorer = TopExp_Explorer(intersection_shape, TopAbs_EDGE)\n",
    "            if not explorer.More():\n",
    "                print(\"No edges found in the intersection shape.\",face_index)\n",
    "                continue\n",
    "            edge = topods_Edge(explorer.Current())\n",
    "            curve = BRepAdaptor_Curve(edge)    ## BRepAdaptor_Curve 是一個適配器類，用於從拓撲邊提取底層的曲線幾何資訊\n",
    "                \n",
    "            curve_length = GCPnts_AbscissaPoint.Length(curve, curve.FirstParameter(), curve.LastParameter())\n",
    "            \n",
    "\n",
    "\n",
    "            suitable_spacing = calculate_suitable_plane_spacing(edge, curve_length, props =props, point_spacing=1, num_points=1000) \n",
    "            print(str(face_index) + '\\t' + str(path_index) + '\\t' + \"spacing:\", suitable_spacing)\n",
    "            if suitable_spacing < point_spacing:   ## 如果設定長度小於最大容許長度，則更改設定長度\n",
    "                adjust_point_spacing = round(suitable_spacing-1)\n",
    "            else:\n",
    "                adjust_point_spacing = point_spacing\n",
    "            # average_curvature = calculate_average_curvature(edge, curve_length, props =props, point_spacing=1.0, num_points=1000)\n",
    "            # if average_curvature is not None:\n",
    "            #     # print(str(face_index) + '\\t' + str(path_index) + '\\t' + \"Average curvature:\", average_curvature)\n",
    "            # else:\n",
    "            #     print(\"No valid points found to calculate curvature.\")\n",
    "            num_points = int(curve_length / adjust_point_spacing) + 1\n",
    "            \n",
    "            if curve_length % adjust_point_spacing != 0:\n",
    "                iter_point = num_points + 1\n",
    "            else:\n",
    "                iter_point = num_points\n",
    "    \n",
    "            for j in range(0, iter_point):\n",
    "                param = curve.FirstParameter() + j * (curve.LastParameter() - curve.FirstParameter()) * adjust_point_spacing / curve_length #因為有些UV被正規畫到0~1之間了\n",
    "                if param >= curve.LastParameter():\n",
    "                    param = curve.LastParameter()\n",
    "                point = curve.Value(param)\n",
    "                if is_display:\n",
    "                    display.DisplayShape(point, update=True, color='YELLOW')\n",
    "                \n",
    "                surface_handle = BRep_Tool.Surface(face)\n",
    "                projector = GeomAPI_ProjectPointOnSurf(point, surface_handle)\n",
    "                \n",
    "                if projector.NbPoints() > 0:\n",
    "                    u, v = projector.LowerDistanceParameters()\n",
    "                else:\n",
    "                    print(\"No projection found for this point\")\n",
    "                    \n",
    "                props.SetParameters(u, v)\n",
    "                if props.IsCurvatureDefined():\n",
    "                    normal = props.Normal()\n",
    "                \n",
    "                if face.Orientation() == TopAbs_REVERSED:\n",
    "                    normal.Reverse()\n",
    "                    \n",
    "                if is_save:\n",
    "                    with open(name  + '.txt', 'a') as outfile:\n",
    "                        outfile.write(str(face_index) + '\\t' + str(path_index) +\n",
    "                                    '\\t' + format(point.X(), \".2f\") + '\\t' + format(point.Y(), \".2f\") + '\\t' + format(point.Z(), \".2f\") +\n",
    "                                    '\\t' + format(normal.X(), \".2f\") + '\\t' + format(normal.Y(), \".2f\") + '\\t' + format(normal.Z(), \".2f\") + '\\n')\n",
    "        \n",
    "    \n",
    "                    with open(name + '.csv', 'a', newline='') as outfile:\n",
    "                        # 寫入數據，使用逗號分隔\n",
    "                        outfile.write(f\"{face_index},{path_index},\" +\n",
    "                                    f\"{format(point.X(), '.2f')},{format(point.Y(), '.2f')},{format(point.Z(), '.2f')},\" +\n",
    "                                    f\"{format(normal.X(), '.2f')},{format(normal.Y(), '.2f')},{format(normal.Z(), '.2f')}\\n\")\n",
    "        \n",
    "    "
   ]
  },
  {
   "cell_type": "code",
   "execution_count": 90,
   "metadata": {},
   "outputs": [
    {
     "name": "stderr",
     "output_type": "stream",
     "text": [
      "C:\\Users\\sw_ya\\AppData\\Local\\Temp\\ipykernel_6840\\1688185976.py:5: DeprecationWarning: Call to deprecated function topods_Face since pythonocc-core 7.7.1. This function will be removed in a future release, please rather use the static method topods.Face\n",
      "  face = topods_Face(face)\n",
      "C:\\Users\\sw_ya\\AppData\\Local\\Temp\\ipykernel_6840\\144608263.py:11: DeprecationWarning: Call to deprecated function topods_Edge since pythonocc-core 7.7.1. This function will be removed in a future release, please rather use the static method topods.Edge\n",
      "  edge = topods_Edge(edge_explorer.Current())\n",
      "C:\\Users\\sw_ya\\AppData\\Local\\Temp\\ipykernel_6840\\144608263.py:11: DeprecationWarning: Call to deprecated function topods_Edge since pythonocc-core 7.7.1. This function will be removed in a future release, please rather use the static method topods.Edge\n",
      "  edge = topods_Edge(edge_explorer.Current())\n",
      "C:\\Users\\sw_ya\\AppData\\Local\\Temp\\ipykernel_6840\\1282987135.py:47: DeprecationWarning: Call to deprecated function topods_Edge since pythonocc-core 7.7.1. This function will be removed in a future release, please rather use the static method topods.Edge\n",
      "  edge = topods_Edge(explorer.Current())\n"
     ]
    },
    {
     "name": "stdout",
     "output_type": "stream",
     "text": [
      "Face orientation: 0\n",
      "1\t1\tspacing: 63.23764701504603\n"
     ]
    },
    {
     "name": "stderr",
     "output_type": "stream",
     "text": [
      "C:\\Users\\sw_ya\\AppData\\Local\\Temp\\ipykernel_6840\\1282987135.py:47: DeprecationWarning: Call to deprecated function topods_Edge since pythonocc-core 7.7.1. This function will be removed in a future release, please rather use the static method topods.Edge\n",
      "  edge = topods_Edge(explorer.Current())\n"
     ]
    },
    {
     "name": "stdout",
     "output_type": "stream",
     "text": [
      "1\t2\tspacing: 63.23764701504603\n"
     ]
    },
    {
     "name": "stderr",
     "output_type": "stream",
     "text": [
      "C:\\Users\\sw_ya\\AppData\\Local\\Temp\\ipykernel_6840\\1282987135.py:47: DeprecationWarning: Call to deprecated function topods_Edge since pythonocc-core 7.7.1. This function will be removed in a future release, please rather use the static method topods.Edge\n",
      "  edge = topods_Edge(explorer.Current())\n"
     ]
    },
    {
     "name": "stdout",
     "output_type": "stream",
     "text": [
      "1\t3\tspacing: 63.23764701504603\n"
     ]
    },
    {
     "name": "stderr",
     "output_type": "stream",
     "text": [
      "C:\\Users\\sw_ya\\AppData\\Local\\Temp\\ipykernel_6840\\1282987135.py:47: DeprecationWarning: Call to deprecated function topods_Edge since pythonocc-core 7.7.1. This function will be removed in a future release, please rather use the static method topods.Edge\n",
      "  edge = topods_Edge(explorer.Current())\n"
     ]
    },
    {
     "name": "stdout",
     "output_type": "stream",
     "text": [
      "1\t4\tspacing: 63.23764701504603\n"
     ]
    },
    {
     "name": "stderr",
     "output_type": "stream",
     "text": [
      "C:\\Users\\sw_ya\\AppData\\Local\\Temp\\ipykernel_6840\\1282987135.py:47: DeprecationWarning: Call to deprecated function topods_Edge since pythonocc-core 7.7.1. This function will be removed in a future release, please rather use the static method topods.Edge\n",
      "  edge = topods_Edge(explorer.Current())\n"
     ]
    },
    {
     "name": "stdout",
     "output_type": "stream",
     "text": [
      "1\t5\tspacing: 63.23764701504603\n"
     ]
    },
    {
     "name": "stderr",
     "output_type": "stream",
     "text": [
      "C:\\Users\\sw_ya\\AppData\\Local\\Temp\\ipykernel_6840\\1282987135.py:47: DeprecationWarning: Call to deprecated function topods_Edge since pythonocc-core 7.7.1. This function will be removed in a future release, please rather use the static method topods.Edge\n",
      "  edge = topods_Edge(explorer.Current())\n"
     ]
    },
    {
     "name": "stdout",
     "output_type": "stream",
     "text": [
      "1\t6\tspacing: 63.23764701504603\n"
     ]
    },
    {
     "name": "stderr",
     "output_type": "stream",
     "text": [
      "C:\\Users\\sw_ya\\AppData\\Local\\Temp\\ipykernel_6840\\1282987135.py:47: DeprecationWarning: Call to deprecated function topods_Edge since pythonocc-core 7.7.1. This function will be removed in a future release, please rather use the static method topods.Edge\n",
      "  edge = topods_Edge(explorer.Current())\n"
     ]
    },
    {
     "name": "stdout",
     "output_type": "stream",
     "text": [
      "1\t7\tspacing: 63.23764701504603\n"
     ]
    },
    {
     "name": "stderr",
     "output_type": "stream",
     "text": [
      "C:\\Users\\sw_ya\\AppData\\Local\\Temp\\ipykernel_6840\\1282987135.py:47: DeprecationWarning: Call to deprecated function topods_Edge since pythonocc-core 7.7.1. This function will be removed in a future release, please rather use the static method topods.Edge\n",
      "  edge = topods_Edge(explorer.Current())\n"
     ]
    },
    {
     "name": "stdout",
     "output_type": "stream",
     "text": [
      "1\t8\tspacing: 63.23764701504603\n"
     ]
    },
    {
     "name": "stderr",
     "output_type": "stream",
     "text": [
      "C:\\Users\\sw_ya\\AppData\\Local\\Temp\\ipykernel_6840\\1282987135.py:47: DeprecationWarning: Call to deprecated function topods_Edge since pythonocc-core 7.7.1. This function will be removed in a future release, please rather use the static method topods.Edge\n",
      "  edge = topods_Edge(explorer.Current())\n"
     ]
    },
    {
     "name": "stdout",
     "output_type": "stream",
     "text": [
      "1\t9\tspacing: 63.23764701504603\n"
     ]
    },
    {
     "name": "stderr",
     "output_type": "stream",
     "text": [
      "C:\\Users\\sw_ya\\AppData\\Local\\Temp\\ipykernel_6840\\1282987135.py:47: DeprecationWarning: Call to deprecated function topods_Edge since pythonocc-core 7.7.1. This function will be removed in a future release, please rather use the static method topods.Edge\n",
      "  edge = topods_Edge(explorer.Current())\n"
     ]
    },
    {
     "name": "stdout",
     "output_type": "stream",
     "text": [
      "1\t10\tspacing: 63.23764701504603\n"
     ]
    },
    {
     "name": "stderr",
     "output_type": "stream",
     "text": [
      "C:\\Users\\sw_ya\\AppData\\Local\\Temp\\ipykernel_6840\\1282987135.py:47: DeprecationWarning: Call to deprecated function topods_Edge since pythonocc-core 7.7.1. This function will be removed in a future release, please rather use the static method topods.Edge\n",
      "  edge = topods_Edge(explorer.Current())\n",
      "C:\\Users\\sw_ya\\AppData\\Local\\Temp\\ipykernel_6840\\1688185976.py:5: DeprecationWarning: Call to deprecated function topods_Face since pythonocc-core 7.7.1. This function will be removed in a future release, please rather use the static method topods.Face\n",
      "  face = topods_Face(face)\n",
      "C:\\Users\\sw_ya\\AppData\\Local\\Temp\\ipykernel_6840\\144608263.py:11: DeprecationWarning: Call to deprecated function topods_Edge since pythonocc-core 7.7.1. This function will be removed in a future release, please rather use the static method topods.Edge\n",
      "  edge = topods_Edge(edge_explorer.Current())\n",
      "C:\\Users\\sw_ya\\AppData\\Local\\Temp\\ipykernel_6840\\144608263.py:11: DeprecationWarning: Call to deprecated function topods_Edge since pythonocc-core 7.7.1. This function will be removed in a future release, please rather use the static method topods.Edge\n",
      "  edge = topods_Edge(edge_explorer.Current())\n"
     ]
    },
    {
     "name": "stdout",
     "output_type": "stream",
     "text": [
      "1\t11\tspacing: 63.23764701504603\n",
      "Face orientation: 0\n"
     ]
    },
    {
     "name": "stderr",
     "output_type": "stream",
     "text": [
      "C:\\Users\\sw_ya\\AppData\\Local\\Temp\\ipykernel_6840\\1282987135.py:47: DeprecationWarning: Call to deprecated function topods_Edge since pythonocc-core 7.7.1. This function will be removed in a future release, please rather use the static method topods.Edge\n",
      "  edge = topods_Edge(explorer.Current())\n"
     ]
    },
    {
     "name": "stdout",
     "output_type": "stream",
     "text": [
      "2\t1\tspacing: 63.23764701504603\n"
     ]
    },
    {
     "name": "stderr",
     "output_type": "stream",
     "text": [
      "C:\\Users\\sw_ya\\AppData\\Local\\Temp\\ipykernel_6840\\1282987135.py:47: DeprecationWarning: Call to deprecated function topods_Edge since pythonocc-core 7.7.1. This function will be removed in a future release, please rather use the static method topods.Edge\n",
      "  edge = topods_Edge(explorer.Current())\n"
     ]
    },
    {
     "name": "stdout",
     "output_type": "stream",
     "text": [
      "2\t2\tspacing: 63.23764701504603\n"
     ]
    },
    {
     "name": "stderr",
     "output_type": "stream",
     "text": [
      "C:\\Users\\sw_ya\\AppData\\Local\\Temp\\ipykernel_6840\\1282987135.py:47: DeprecationWarning: Call to deprecated function topods_Edge since pythonocc-core 7.7.1. This function will be removed in a future release, please rather use the static method topods.Edge\n",
      "  edge = topods_Edge(explorer.Current())\n"
     ]
    },
    {
     "name": "stdout",
     "output_type": "stream",
     "text": [
      "2\t3\tspacing: 63.23764701504603\n"
     ]
    },
    {
     "name": "stderr",
     "output_type": "stream",
     "text": [
      "C:\\Users\\sw_ya\\AppData\\Local\\Temp\\ipykernel_6840\\1282987135.py:47: DeprecationWarning: Call to deprecated function topods_Edge since pythonocc-core 7.7.1. This function will be removed in a future release, please rather use the static method topods.Edge\n",
      "  edge = topods_Edge(explorer.Current())\n"
     ]
    },
    {
     "name": "stdout",
     "output_type": "stream",
     "text": [
      "2\t4\tspacing: 63.23764701504603\n"
     ]
    },
    {
     "name": "stderr",
     "output_type": "stream",
     "text": [
      "C:\\Users\\sw_ya\\AppData\\Local\\Temp\\ipykernel_6840\\1282987135.py:47: DeprecationWarning: Call to deprecated function topods_Edge since pythonocc-core 7.7.1. This function will be removed in a future release, please rather use the static method topods.Edge\n",
      "  edge = topods_Edge(explorer.Current())\n"
     ]
    },
    {
     "name": "stdout",
     "output_type": "stream",
     "text": [
      "2\t5\tspacing: 63.23764701504603\n"
     ]
    },
    {
     "name": "stderr",
     "output_type": "stream",
     "text": [
      "C:\\Users\\sw_ya\\AppData\\Local\\Temp\\ipykernel_6840\\1282987135.py:47: DeprecationWarning: Call to deprecated function topods_Edge since pythonocc-core 7.7.1. This function will be removed in a future release, please rather use the static method topods.Edge\n",
      "  edge = topods_Edge(explorer.Current())\n"
     ]
    },
    {
     "name": "stdout",
     "output_type": "stream",
     "text": [
      "2\t6\tspacing: 63.23764701504603\n"
     ]
    },
    {
     "name": "stderr",
     "output_type": "stream",
     "text": [
      "C:\\Users\\sw_ya\\AppData\\Local\\Temp\\ipykernel_6840\\1282987135.py:47: DeprecationWarning: Call to deprecated function topods_Edge since pythonocc-core 7.7.1. This function will be removed in a future release, please rather use the static method topods.Edge\n",
      "  edge = topods_Edge(explorer.Current())\n"
     ]
    },
    {
     "name": "stdout",
     "output_type": "stream",
     "text": [
      "2\t7\tspacing: 63.23764701504603\n",
      "2\t8\tspacing: 63.23764701504603\n"
     ]
    },
    {
     "name": "stderr",
     "output_type": "stream",
     "text": [
      "C:\\Users\\sw_ya\\AppData\\Local\\Temp\\ipykernel_6840\\1282987135.py:47: DeprecationWarning: Call to deprecated function topods_Edge since pythonocc-core 7.7.1. This function will be removed in a future release, please rather use the static method topods.Edge\n",
      "  edge = topods_Edge(explorer.Current())\n",
      "C:\\Users\\sw_ya\\AppData\\Local\\Temp\\ipykernel_6840\\1282987135.py:47: DeprecationWarning: Call to deprecated function topods_Edge since pythonocc-core 7.7.1. This function will be removed in a future release, please rather use the static method topods.Edge\n",
      "  edge = topods_Edge(explorer.Current())\n"
     ]
    },
    {
     "name": "stdout",
     "output_type": "stream",
     "text": [
      "2\t9\tspacing: 63.23764701504603\n"
     ]
    },
    {
     "name": "stderr",
     "output_type": "stream",
     "text": [
      "C:\\Users\\sw_ya\\AppData\\Local\\Temp\\ipykernel_6840\\1282987135.py:47: DeprecationWarning: Call to deprecated function topods_Edge since pythonocc-core 7.7.1. This function will be removed in a future release, please rather use the static method topods.Edge\n",
      "  edge = topods_Edge(explorer.Current())\n"
     ]
    },
    {
     "name": "stdout",
     "output_type": "stream",
     "text": [
      "2\t10\tspacing: 63.23764701504603\n"
     ]
    },
    {
     "name": "stderr",
     "output_type": "stream",
     "text": [
      "C:\\Users\\sw_ya\\AppData\\Local\\Temp\\ipykernel_6840\\1282987135.py:47: DeprecationWarning: Call to deprecated function topods_Edge since pythonocc-core 7.7.1. This function will be removed in a future release, please rather use the static method topods.Edge\n",
      "  edge = topods_Edge(explorer.Current())\n"
     ]
    },
    {
     "name": "stdout",
     "output_type": "stream",
     "text": [
      "2\t11\tspacing: 63.23764701504603\n"
     ]
    },
    {
     "name": "stderr",
     "output_type": "stream",
     "text": [
      "C:\\Users\\sw_ya\\AppData\\Local\\Temp\\ipykernel_6840\\1688185976.py:5: DeprecationWarning: Call to deprecated function topods_Face since pythonocc-core 7.7.1. This function will be removed in a future release, please rather use the static method topods.Face\n",
      "  face = topods_Face(face)\n",
      "C:\\Users\\sw_ya\\AppData\\Local\\Temp\\ipykernel_6840\\144608263.py:11: DeprecationWarning: Call to deprecated function topods_Edge since pythonocc-core 7.7.1. This function will be removed in a future release, please rather use the static method topods.Edge\n",
      "  edge = topods_Edge(edge_explorer.Current())\n",
      "C:\\Users\\sw_ya\\AppData\\Local\\Temp\\ipykernel_6840\\144608263.py:11: DeprecationWarning: Call to deprecated function topods_Edge since pythonocc-core 7.7.1. This function will be removed in a future release, please rather use the static method topods.Edge\n",
      "  edge = topods_Edge(edge_explorer.Current())\n",
      "C:\\Users\\sw_ya\\AppData\\Local\\Temp\\ipykernel_6840\\1282987135.py:47: DeprecationWarning: Call to deprecated function topods_Edge since pythonocc-core 7.7.1. This function will be removed in a future release, please rather use the static method topods.Edge\n",
      "  edge = topods_Edge(explorer.Current())\n"
     ]
    },
    {
     "name": "stdout",
     "output_type": "stream",
     "text": [
      "Face orientation: 0\n",
      "3\t1\tspacing: 63.23764701504603\n"
     ]
    },
    {
     "name": "stderr",
     "output_type": "stream",
     "text": [
      "C:\\Users\\sw_ya\\AppData\\Local\\Temp\\ipykernel_6840\\1282987135.py:47: DeprecationWarning: Call to deprecated function topods_Edge since pythonocc-core 7.7.1. This function will be removed in a future release, please rather use the static method topods.Edge\n",
      "  edge = topods_Edge(explorer.Current())\n"
     ]
    },
    {
     "name": "stdout",
     "output_type": "stream",
     "text": [
      "3\t2\tspacing: 63.23764701504603\n"
     ]
    },
    {
     "name": "stderr",
     "output_type": "stream",
     "text": [
      "C:\\Users\\sw_ya\\AppData\\Local\\Temp\\ipykernel_6840\\1282987135.py:47: DeprecationWarning: Call to deprecated function topods_Edge since pythonocc-core 7.7.1. This function will be removed in a future release, please rather use the static method topods.Edge\n",
      "  edge = topods_Edge(explorer.Current())\n"
     ]
    },
    {
     "name": "stdout",
     "output_type": "stream",
     "text": [
      "3\t3\tspacing: 63.23764701504603\n"
     ]
    },
    {
     "name": "stderr",
     "output_type": "stream",
     "text": [
      "C:\\Users\\sw_ya\\AppData\\Local\\Temp\\ipykernel_6840\\1282987135.py:47: DeprecationWarning: Call to deprecated function topods_Edge since pythonocc-core 7.7.1. This function will be removed in a future release, please rather use the static method topods.Edge\n",
      "  edge = topods_Edge(explorer.Current())\n"
     ]
    },
    {
     "name": "stdout",
     "output_type": "stream",
     "text": [
      "3\t4\tspacing: 63.23764701504603\n"
     ]
    },
    {
     "name": "stderr",
     "output_type": "stream",
     "text": [
      "C:\\Users\\sw_ya\\AppData\\Local\\Temp\\ipykernel_6840\\1282987135.py:47: DeprecationWarning: Call to deprecated function topods_Edge since pythonocc-core 7.7.1. This function will be removed in a future release, please rather use the static method topods.Edge\n",
      "  edge = topods_Edge(explorer.Current())\n"
     ]
    },
    {
     "name": "stdout",
     "output_type": "stream",
     "text": [
      "3\t5\tspacing: 63.23764701504603\n"
     ]
    },
    {
     "name": "stderr",
     "output_type": "stream",
     "text": [
      "C:\\Users\\sw_ya\\AppData\\Local\\Temp\\ipykernel_6840\\1282987135.py:47: DeprecationWarning: Call to deprecated function topods_Edge since pythonocc-core 7.7.1. This function will be removed in a future release, please rather use the static method topods.Edge\n",
      "  edge = topods_Edge(explorer.Current())\n"
     ]
    },
    {
     "name": "stdout",
     "output_type": "stream",
     "text": [
      "3\t6\tspacing: 63.23764701504603\n"
     ]
    },
    {
     "name": "stderr",
     "output_type": "stream",
     "text": [
      "C:\\Users\\sw_ya\\AppData\\Local\\Temp\\ipykernel_6840\\1282987135.py:47: DeprecationWarning: Call to deprecated function topods_Edge since pythonocc-core 7.7.1. This function will be removed in a future release, please rather use the static method topods.Edge\n",
      "  edge = topods_Edge(explorer.Current())\n"
     ]
    },
    {
     "name": "stdout",
     "output_type": "stream",
     "text": [
      "3\t7\tspacing: 63.23764701504603\n"
     ]
    },
    {
     "name": "stderr",
     "output_type": "stream",
     "text": [
      "C:\\Users\\sw_ya\\AppData\\Local\\Temp\\ipykernel_6840\\1282987135.py:47: DeprecationWarning: Call to deprecated function topods_Edge since pythonocc-core 7.7.1. This function will be removed in a future release, please rather use the static method topods.Edge\n",
      "  edge = topods_Edge(explorer.Current())\n"
     ]
    },
    {
     "name": "stdout",
     "output_type": "stream",
     "text": [
      "3\t8\tspacing: 63.23764701504603\n"
     ]
    },
    {
     "name": "stderr",
     "output_type": "stream",
     "text": [
      "C:\\Users\\sw_ya\\AppData\\Local\\Temp\\ipykernel_6840\\1282987135.py:47: DeprecationWarning: Call to deprecated function topods_Edge since pythonocc-core 7.7.1. This function will be removed in a future release, please rather use the static method topods.Edge\n",
      "  edge = topods_Edge(explorer.Current())\n"
     ]
    },
    {
     "name": "stdout",
     "output_type": "stream",
     "text": [
      "3\t9\tspacing: 63.23764701504603\n"
     ]
    },
    {
     "name": "stderr",
     "output_type": "stream",
     "text": [
      "C:\\Users\\sw_ya\\AppData\\Local\\Temp\\ipykernel_6840\\1688185976.py:5: DeprecationWarning: Call to deprecated function topods_Face since pythonocc-core 7.7.1. This function will be removed in a future release, please rather use the static method topods.Face\n",
      "  face = topods_Face(face)\n",
      "C:\\Users\\sw_ya\\AppData\\Local\\Temp\\ipykernel_6840\\144608263.py:11: DeprecationWarning: Call to deprecated function topods_Edge since pythonocc-core 7.7.1. This function will be removed in a future release, please rather use the static method topods.Edge\n",
      "  edge = topods_Edge(edge_explorer.Current())\n",
      "C:\\Users\\sw_ya\\AppData\\Local\\Temp\\ipykernel_6840\\144608263.py:11: DeprecationWarning: Call to deprecated function topods_Edge since pythonocc-core 7.7.1. This function will be removed in a future release, please rather use the static method topods.Edge\n",
      "  edge = topods_Edge(edge_explorer.Current())\n",
      "C:\\Users\\sw_ya\\AppData\\Local\\Temp\\ipykernel_6840\\1282987135.py:47: DeprecationWarning: Call to deprecated function topods_Edge since pythonocc-core 7.7.1. This function will be removed in a future release, please rather use the static method topods.Edge\n",
      "  edge = topods_Edge(explorer.Current())\n"
     ]
    },
    {
     "name": "stdout",
     "output_type": "stream",
     "text": [
      "Face orientation: 0\n",
      "4\t1\tspacing: 63.23764701504603\n"
     ]
    },
    {
     "name": "stderr",
     "output_type": "stream",
     "text": [
      "C:\\Users\\sw_ya\\AppData\\Local\\Temp\\ipykernel_6840\\1282987135.py:47: DeprecationWarning: Call to deprecated function topods_Edge since pythonocc-core 7.7.1. This function will be removed in a future release, please rather use the static method topods.Edge\n",
      "  edge = topods_Edge(explorer.Current())\n"
     ]
    },
    {
     "name": "stdout",
     "output_type": "stream",
     "text": [
      "4\t2\tspacing: 63.23764701504603\n"
     ]
    },
    {
     "name": "stderr",
     "output_type": "stream",
     "text": [
      "C:\\Users\\sw_ya\\AppData\\Local\\Temp\\ipykernel_6840\\1282987135.py:47: DeprecationWarning: Call to deprecated function topods_Edge since pythonocc-core 7.7.1. This function will be removed in a future release, please rather use the static method topods.Edge\n",
      "  edge = topods_Edge(explorer.Current())\n"
     ]
    },
    {
     "name": "stdout",
     "output_type": "stream",
     "text": [
      "4\t3\tspacing: 63.23764701504603\n"
     ]
    },
    {
     "name": "stderr",
     "output_type": "stream",
     "text": [
      "C:\\Users\\sw_ya\\AppData\\Local\\Temp\\ipykernel_6840\\1282987135.py:47: DeprecationWarning: Call to deprecated function topods_Edge since pythonocc-core 7.7.1. This function will be removed in a future release, please rather use the static method topods.Edge\n",
      "  edge = topods_Edge(explorer.Current())\n"
     ]
    },
    {
     "name": "stdout",
     "output_type": "stream",
     "text": [
      "4\t4\tspacing: 63.23764701504603\n"
     ]
    },
    {
     "name": "stderr",
     "output_type": "stream",
     "text": [
      "C:\\Users\\sw_ya\\AppData\\Local\\Temp\\ipykernel_6840\\1282987135.py:47: DeprecationWarning: Call to deprecated function topods_Edge since pythonocc-core 7.7.1. This function will be removed in a future release, please rather use the static method topods.Edge\n",
      "  edge = topods_Edge(explorer.Current())\n"
     ]
    },
    {
     "name": "stdout",
     "output_type": "stream",
     "text": [
      "4\t5\tspacing: 63.23764701504603\n"
     ]
    },
    {
     "name": "stderr",
     "output_type": "stream",
     "text": [
      "C:\\Users\\sw_ya\\AppData\\Local\\Temp\\ipykernel_6840\\1282987135.py:47: DeprecationWarning: Call to deprecated function topods_Edge since pythonocc-core 7.7.1. This function will be removed in a future release, please rather use the static method topods.Edge\n",
      "  edge = topods_Edge(explorer.Current())\n"
     ]
    },
    {
     "name": "stdout",
     "output_type": "stream",
     "text": [
      "4\t6\tspacing: 63.23764701504603\n"
     ]
    },
    {
     "name": "stderr",
     "output_type": "stream",
     "text": [
      "C:\\Users\\sw_ya\\AppData\\Local\\Temp\\ipykernel_6840\\1282987135.py:47: DeprecationWarning: Call to deprecated function topods_Edge since pythonocc-core 7.7.1. This function will be removed in a future release, please rather use the static method topods.Edge\n",
      "  edge = topods_Edge(explorer.Current())\n"
     ]
    },
    {
     "name": "stdout",
     "output_type": "stream",
     "text": [
      "4\t7\tspacing: 63.23764701504603\n"
     ]
    },
    {
     "name": "stderr",
     "output_type": "stream",
     "text": [
      "C:\\Users\\sw_ya\\AppData\\Local\\Temp\\ipykernel_6840\\1282987135.py:47: DeprecationWarning: Call to deprecated function topods_Edge since pythonocc-core 7.7.1. This function will be removed in a future release, please rather use the static method topods.Edge\n",
      "  edge = topods_Edge(explorer.Current())\n"
     ]
    },
    {
     "name": "stdout",
     "output_type": "stream",
     "text": [
      "4\t8\tspacing: 63.23764701504603\n"
     ]
    },
    {
     "name": "stderr",
     "output_type": "stream",
     "text": [
      "C:\\Users\\sw_ya\\AppData\\Local\\Temp\\ipykernel_6840\\1282987135.py:47: DeprecationWarning: Call to deprecated function topods_Edge since pythonocc-core 7.7.1. This function will be removed in a future release, please rather use the static method topods.Edge\n",
      "  edge = topods_Edge(explorer.Current())\n",
      "C:\\Users\\sw_ya\\AppData\\Local\\Temp\\ipykernel_6840\\1688185976.py:5: DeprecationWarning: Call to deprecated function topods_Face since pythonocc-core 7.7.1. This function will be removed in a future release, please rather use the static method topods.Face\n",
      "  face = topods_Face(face)\n",
      "C:\\Users\\sw_ya\\AppData\\Local\\Temp\\ipykernel_6840\\144608263.py:11: DeprecationWarning: Call to deprecated function topods_Edge since pythonocc-core 7.7.1. This function will be removed in a future release, please rather use the static method topods.Edge\n",
      "  edge = topods_Edge(edge_explorer.Current())\n",
      "C:\\Users\\sw_ya\\AppData\\Local\\Temp\\ipykernel_6840\\144608263.py:11: DeprecationWarning: Call to deprecated function topods_Edge since pythonocc-core 7.7.1. This function will be removed in a future release, please rather use the static method topods.Edge\n",
      "  edge = topods_Edge(edge_explorer.Current())\n"
     ]
    },
    {
     "name": "stdout",
     "output_type": "stream",
     "text": [
      "4\t9\tspacing: 63.23764701504603\n",
      "Face orientation: 0\n"
     ]
    },
    {
     "name": "stderr",
     "output_type": "stream",
     "text": [
      "C:\\Users\\sw_ya\\AppData\\Local\\Temp\\ipykernel_6840\\1282987135.py:47: DeprecationWarning: Call to deprecated function topods_Edge since pythonocc-core 7.7.1. This function will be removed in a future release, please rather use the static method topods.Edge\n",
      "  edge = topods_Edge(explorer.Current())\n"
     ]
    },
    {
     "name": "stdout",
     "output_type": "stream",
     "text": [
      "5\t1\tspacing: 63.23764701504603\n"
     ]
    },
    {
     "name": "stderr",
     "output_type": "stream",
     "text": [
      "C:\\Users\\sw_ya\\AppData\\Local\\Temp\\ipykernel_6840\\1282987135.py:47: DeprecationWarning: Call to deprecated function topods_Edge since pythonocc-core 7.7.1. This function will be removed in a future release, please rather use the static method topods.Edge\n",
      "  edge = topods_Edge(explorer.Current())\n"
     ]
    },
    {
     "name": "stdout",
     "output_type": "stream",
     "text": [
      "5\t2\tspacing: 63.23764701504603\n"
     ]
    },
    {
     "name": "stderr",
     "output_type": "stream",
     "text": [
      "C:\\Users\\sw_ya\\AppData\\Local\\Temp\\ipykernel_6840\\1282987135.py:47: DeprecationWarning: Call to deprecated function topods_Edge since pythonocc-core 7.7.1. This function will be removed in a future release, please rather use the static method topods.Edge\n",
      "  edge = topods_Edge(explorer.Current())\n"
     ]
    },
    {
     "name": "stdout",
     "output_type": "stream",
     "text": [
      "5\t3\tspacing: 63.23764701504603\n",
      "5\t4\tspacing: 63.23764701504603\n"
     ]
    },
    {
     "name": "stderr",
     "output_type": "stream",
     "text": [
      "C:\\Users\\sw_ya\\AppData\\Local\\Temp\\ipykernel_6840\\1282987135.py:47: DeprecationWarning: Call to deprecated function topods_Edge since pythonocc-core 7.7.1. This function will be removed in a future release, please rather use the static method topods.Edge\n",
      "  edge = topods_Edge(explorer.Current())\n",
      "C:\\Users\\sw_ya\\AppData\\Local\\Temp\\ipykernel_6840\\1282987135.py:47: DeprecationWarning: Call to deprecated function topods_Edge since pythonocc-core 7.7.1. This function will be removed in a future release, please rather use the static method topods.Edge\n",
      "  edge = topods_Edge(explorer.Current())\n"
     ]
    },
    {
     "name": "stdout",
     "output_type": "stream",
     "text": [
      "5\t5\tspacing: 63.23764701504603\n"
     ]
    },
    {
     "name": "stderr",
     "output_type": "stream",
     "text": [
      "C:\\Users\\sw_ya\\AppData\\Local\\Temp\\ipykernel_6840\\1282987135.py:47: DeprecationWarning: Call to deprecated function topods_Edge since pythonocc-core 7.7.1. This function will be removed in a future release, please rather use the static method topods.Edge\n",
      "  edge = topods_Edge(explorer.Current())\n",
      "C:\\Users\\sw_ya\\AppData\\Local\\Temp\\ipykernel_6840\\1282987135.py:47: DeprecationWarning: Call to deprecated function topods_Edge since pythonocc-core 7.7.1. This function will be removed in a future release, please rather use the static method topods.Edge\n",
      "  edge = topods_Edge(explorer.Current())\n"
     ]
    },
    {
     "name": "stdout",
     "output_type": "stream",
     "text": [
      "5\t6\tspacing: 63.23764701504603\n",
      "5\t7\tspacing: 63.23764701504603\n"
     ]
    },
    {
     "name": "stderr",
     "output_type": "stream",
     "text": [
      "C:\\Users\\sw_ya\\AppData\\Local\\Temp\\ipykernel_6840\\1282987135.py:47: DeprecationWarning: Call to deprecated function topods_Edge since pythonocc-core 7.7.1. This function will be removed in a future release, please rather use the static method topods.Edge\n",
      "  edge = topods_Edge(explorer.Current())\n"
     ]
    },
    {
     "name": "stdout",
     "output_type": "stream",
     "text": [
      "5\t8\tspacing: 63.23764701504603\n"
     ]
    },
    {
     "name": "stderr",
     "output_type": "stream",
     "text": [
      "C:\\Users\\sw_ya\\AppData\\Local\\Temp\\ipykernel_6840\\1282987135.py:47: DeprecationWarning: Call to deprecated function topods_Edge since pythonocc-core 7.7.1. This function will be removed in a future release, please rather use the static method topods.Edge\n",
      "  edge = topods_Edge(explorer.Current())\n"
     ]
    },
    {
     "name": "stdout",
     "output_type": "stream",
     "text": [
      "5\t9\tspacing: 63.23764701504603\n"
     ]
    },
    {
     "name": "stderr",
     "output_type": "stream",
     "text": [
      "C:\\Users\\sw_ya\\AppData\\Local\\Temp\\ipykernel_6840\\1282987135.py:47: DeprecationWarning: Call to deprecated function topods_Edge since pythonocc-core 7.7.1. This function will be removed in a future release, please rather use the static method topods.Edge\n",
      "  edge = topods_Edge(explorer.Current())\n"
     ]
    },
    {
     "name": "stdout",
     "output_type": "stream",
     "text": [
      "5\t10\tspacing: 63.23764701504603\n"
     ]
    },
    {
     "name": "stderr",
     "output_type": "stream",
     "text": [
      "C:\\Users\\sw_ya\\AppData\\Local\\Temp\\ipykernel_6840\\1282987135.py:47: DeprecationWarning: Call to deprecated function topods_Edge since pythonocc-core 7.7.1. This function will be removed in a future release, please rather use the static method topods.Edge\n",
      "  edge = topods_Edge(explorer.Current())\n",
      "C:\\Users\\sw_ya\\AppData\\Local\\Temp\\ipykernel_6840\\1688185976.py:5: DeprecationWarning: Call to deprecated function topods_Face since pythonocc-core 7.7.1. This function will be removed in a future release, please rather use the static method topods.Face\n",
      "  face = topods_Face(face)\n",
      "C:\\Users\\sw_ya\\AppData\\Local\\Temp\\ipykernel_6840\\144608263.py:11: DeprecationWarning: Call to deprecated function topods_Edge since pythonocc-core 7.7.1. This function will be removed in a future release, please rather use the static method topods.Edge\n",
      "  edge = topods_Edge(edge_explorer.Current())\n",
      "C:\\Users\\sw_ya\\AppData\\Local\\Temp\\ipykernel_6840\\144608263.py:11: DeprecationWarning: Call to deprecated function topods_Edge since pythonocc-core 7.7.1. This function will be removed in a future release, please rather use the static method topods.Edge\n",
      "  edge = topods_Edge(edge_explorer.Current())\n"
     ]
    },
    {
     "name": "stdout",
     "output_type": "stream",
     "text": [
      "5\t11\tspacing: 63.23764701504603\n",
      "Face orientation: 0\n"
     ]
    },
    {
     "name": "stderr",
     "output_type": "stream",
     "text": [
      "C:\\Users\\sw_ya\\AppData\\Local\\Temp\\ipykernel_6840\\1282987135.py:47: DeprecationWarning: Call to deprecated function topods_Edge since pythonocc-core 7.7.1. This function will be removed in a future release, please rather use the static method topods.Edge\n",
      "  edge = topods_Edge(explorer.Current())\n"
     ]
    },
    {
     "name": "stdout",
     "output_type": "stream",
     "text": [
      "6\t1\tspacing: 63.23764701504603\n"
     ]
    },
    {
     "name": "stderr",
     "output_type": "stream",
     "text": [
      "C:\\Users\\sw_ya\\AppData\\Local\\Temp\\ipykernel_6840\\1282987135.py:47: DeprecationWarning: Call to deprecated function topods_Edge since pythonocc-core 7.7.1. This function will be removed in a future release, please rather use the static method topods.Edge\n",
      "  edge = topods_Edge(explorer.Current())\n"
     ]
    },
    {
     "name": "stdout",
     "output_type": "stream",
     "text": [
      "6\t2\tspacing: 63.23764701504603\n"
     ]
    },
    {
     "name": "stderr",
     "output_type": "stream",
     "text": [
      "C:\\Users\\sw_ya\\AppData\\Local\\Temp\\ipykernel_6840\\1282987135.py:47: DeprecationWarning: Call to deprecated function topods_Edge since pythonocc-core 7.7.1. This function will be removed in a future release, please rather use the static method topods.Edge\n",
      "  edge = topods_Edge(explorer.Current())\n"
     ]
    },
    {
     "name": "stdout",
     "output_type": "stream",
     "text": [
      "6\t3\tspacing: 63.23764701504603\n"
     ]
    },
    {
     "name": "stderr",
     "output_type": "stream",
     "text": [
      "C:\\Users\\sw_ya\\AppData\\Local\\Temp\\ipykernel_6840\\1282987135.py:47: DeprecationWarning: Call to deprecated function topods_Edge since pythonocc-core 7.7.1. This function will be removed in a future release, please rather use the static method topods.Edge\n",
      "  edge = topods_Edge(explorer.Current())\n"
     ]
    },
    {
     "name": "stdout",
     "output_type": "stream",
     "text": [
      "6\t4\tspacing: 63.23764701504603\n"
     ]
    },
    {
     "name": "stderr",
     "output_type": "stream",
     "text": [
      "C:\\Users\\sw_ya\\AppData\\Local\\Temp\\ipykernel_6840\\1282987135.py:47: DeprecationWarning: Call to deprecated function topods_Edge since pythonocc-core 7.7.1. This function will be removed in a future release, please rather use the static method topods.Edge\n",
      "  edge = topods_Edge(explorer.Current())\n"
     ]
    },
    {
     "name": "stdout",
     "output_type": "stream",
     "text": [
      "6\t5\tspacing: 63.23764701504603\n"
     ]
    },
    {
     "name": "stderr",
     "output_type": "stream",
     "text": [
      "C:\\Users\\sw_ya\\AppData\\Local\\Temp\\ipykernel_6840\\1282987135.py:47: DeprecationWarning: Call to deprecated function topods_Edge since pythonocc-core 7.7.1. This function will be removed in a future release, please rather use the static method topods.Edge\n",
      "  edge = topods_Edge(explorer.Current())\n"
     ]
    },
    {
     "name": "stdout",
     "output_type": "stream",
     "text": [
      "6\t6\tspacing: 63.23764701504603\n"
     ]
    },
    {
     "name": "stderr",
     "output_type": "stream",
     "text": [
      "C:\\Users\\sw_ya\\AppData\\Local\\Temp\\ipykernel_6840\\1282987135.py:47: DeprecationWarning: Call to deprecated function topods_Edge since pythonocc-core 7.7.1. This function will be removed in a future release, please rather use the static method topods.Edge\n",
      "  edge = topods_Edge(explorer.Current())\n"
     ]
    },
    {
     "name": "stdout",
     "output_type": "stream",
     "text": [
      "6\t7\tspacing: 63.23764701504603\n"
     ]
    },
    {
     "name": "stderr",
     "output_type": "stream",
     "text": [
      "C:\\Users\\sw_ya\\AppData\\Local\\Temp\\ipykernel_6840\\1282987135.py:47: DeprecationWarning: Call to deprecated function topods_Edge since pythonocc-core 7.7.1. This function will be removed in a future release, please rather use the static method topods.Edge\n",
      "  edge = topods_Edge(explorer.Current())\n"
     ]
    },
    {
     "name": "stdout",
     "output_type": "stream",
     "text": [
      "6\t8\tspacing: 63.23764701504603\n"
     ]
    },
    {
     "name": "stderr",
     "output_type": "stream",
     "text": [
      "C:\\Users\\sw_ya\\AppData\\Local\\Temp\\ipykernel_6840\\1282987135.py:47: DeprecationWarning: Call to deprecated function topods_Edge since pythonocc-core 7.7.1. This function will be removed in a future release, please rather use the static method topods.Edge\n",
      "  edge = topods_Edge(explorer.Current())\n"
     ]
    },
    {
     "name": "stdout",
     "output_type": "stream",
     "text": [
      "6\t9\tspacing: 63.23764701504603\n"
     ]
    },
    {
     "name": "stderr",
     "output_type": "stream",
     "text": [
      "C:\\Users\\sw_ya\\AppData\\Local\\Temp\\ipykernel_6840\\1282987135.py:47: DeprecationWarning: Call to deprecated function topods_Edge since pythonocc-core 7.7.1. This function will be removed in a future release, please rather use the static method topods.Edge\n",
      "  edge = topods_Edge(explorer.Current())\n"
     ]
    },
    {
     "name": "stdout",
     "output_type": "stream",
     "text": [
      "6\t10\tspacing: 63.23764701504603\n"
     ]
    },
    {
     "name": "stderr",
     "output_type": "stream",
     "text": [
      "C:\\Users\\sw_ya\\AppData\\Local\\Temp\\ipykernel_6840\\1282987135.py:47: DeprecationWarning: Call to deprecated function topods_Edge since pythonocc-core 7.7.1. This function will be removed in a future release, please rather use the static method topods.Edge\n",
      "  edge = topods_Edge(explorer.Current())\n",
      "C:\\Users\\sw_ya\\AppData\\Local\\Temp\\ipykernel_6840\\1688185976.py:5: DeprecationWarning: Call to deprecated function topods_Face since pythonocc-core 7.7.1. This function will be removed in a future release, please rather use the static method topods.Face\n",
      "  face = topods_Face(face)\n",
      "C:\\Users\\sw_ya\\AppData\\Local\\Temp\\ipykernel_6840\\144608263.py:11: DeprecationWarning: Call to deprecated function topods_Edge since pythonocc-core 7.7.1. This function will be removed in a future release, please rather use the static method topods.Edge\n",
      "  edge = topods_Edge(edge_explorer.Current())\n",
      "C:\\Users\\sw_ya\\AppData\\Local\\Temp\\ipykernel_6840\\144608263.py:11: DeprecationWarning: Call to deprecated function topods_Edge since pythonocc-core 7.7.1. This function will be removed in a future release, please rather use the static method topods.Edge\n",
      "  edge = topods_Edge(edge_explorer.Current())\n",
      "C:\\Users\\sw_ya\\AppData\\Local\\Temp\\ipykernel_6840\\144608263.py:11: DeprecationWarning: Call to deprecated function topods_Edge since pythonocc-core 7.7.1. This function will be removed in a future release, please rather use the static method topods.Edge\n",
      "  edge = topods_Edge(edge_explorer.Current())\n",
      "C:\\Users\\sw_ya\\AppData\\Local\\Temp\\ipykernel_6840\\144608263.py:11: DeprecationWarning: Call to deprecated function topods_Edge since pythonocc-core 7.7.1. This function will be removed in a future release, please rather use the static method topods.Edge\n",
      "  edge = topods_Edge(edge_explorer.Current())\n",
      "C:\\Users\\sw_ya\\AppData\\Local\\Temp\\ipykernel_6840\\144608263.py:11: DeprecationWarning: Call to deprecated function topods_Edge since pythonocc-core 7.7.1. This function will be removed in a future release, please rather use the static method topods.Edge\n",
      "  edge = topods_Edge(edge_explorer.Current())\n",
      "C:\\Users\\sw_ya\\AppData\\Local\\Temp\\ipykernel_6840\\144608263.py:11: DeprecationWarning: Call to deprecated function topods_Edge since pythonocc-core 7.7.1. This function will be removed in a future release, please rather use the static method topods.Edge\n",
      "  edge = topods_Edge(edge_explorer.Current())\n",
      "C:\\Users\\sw_ya\\AppData\\Local\\Temp\\ipykernel_6840\\144608263.py:11: DeprecationWarning: Call to deprecated function topods_Edge since pythonocc-core 7.7.1. This function will be removed in a future release, please rather use the static method topods.Edge\n",
      "  edge = topods_Edge(edge_explorer.Current())\n",
      "C:\\Users\\sw_ya\\AppData\\Local\\Temp\\ipykernel_6840\\144608263.py:11: DeprecationWarning: Call to deprecated function topods_Edge since pythonocc-core 7.7.1. This function will be removed in a future release, please rather use the static method topods.Edge\n",
      "  edge = topods_Edge(edge_explorer.Current())\n",
      "C:\\Users\\sw_ya\\AppData\\Local\\Temp\\ipykernel_6840\\144608263.py:11: DeprecationWarning: Call to deprecated function topods_Edge since pythonocc-core 7.7.1. This function will be removed in a future release, please rather use the static method topods.Edge\n",
      "  edge = topods_Edge(edge_explorer.Current())\n",
      "C:\\Users\\sw_ya\\AppData\\Local\\Temp\\ipykernel_6840\\144608263.py:11: DeprecationWarning: Call to deprecated function topods_Edge since pythonocc-core 7.7.1. This function will be removed in a future release, please rather use the static method topods.Edge\n",
      "  edge = topods_Edge(edge_explorer.Current())\n",
      "C:\\Users\\sw_ya\\AppData\\Local\\Temp\\ipykernel_6840\\144608263.py:11: DeprecationWarning: Call to deprecated function topods_Edge since pythonocc-core 7.7.1. This function will be removed in a future release, please rather use the static method topods.Edge\n",
      "  edge = topods_Edge(edge_explorer.Current())\n",
      "C:\\Users\\sw_ya\\AppData\\Local\\Temp\\ipykernel_6840\\144608263.py:11: DeprecationWarning: Call to deprecated function topods_Edge since pythonocc-core 7.7.1. This function will be removed in a future release, please rather use the static method topods.Edge\n",
      "  edge = topods_Edge(edge_explorer.Current())\n",
      "C:\\Users\\sw_ya\\AppData\\Local\\Temp\\ipykernel_6840\\144608263.py:11: DeprecationWarning: Call to deprecated function topods_Edge since pythonocc-core 7.7.1. This function will be removed in a future release, please rather use the static method topods.Edge\n",
      "  edge = topods_Edge(edge_explorer.Current())\n"
     ]
    },
    {
     "name": "stdout",
     "output_type": "stream",
     "text": [
      "6\t11\tspacing: 63.23764701504603\n",
      "Face orientation: 0\n",
      "7\t1\tspacing: 8.888194417315587\n"
     ]
    },
    {
     "name": "stderr",
     "output_type": "stream",
     "text": [
      "C:\\Users\\sw_ya\\AppData\\Local\\Temp\\ipykernel_6840\\1282987135.py:47: DeprecationWarning: Call to deprecated function topods_Edge since pythonocc-core 7.7.1. This function will be removed in a future release, please rather use the static method topods.Edge\n",
      "  edge = topods_Edge(explorer.Current())\n",
      "C:\\Users\\sw_ya\\AppData\\Local\\Temp\\ipykernel_6840\\1282987135.py:47: DeprecationWarning: Call to deprecated function topods_Edge since pythonocc-core 7.7.1. This function will be removed in a future release, please rather use the static method topods.Edge\n",
      "  edge = topods_Edge(explorer.Current())\n"
     ]
    },
    {
     "name": "stdout",
     "output_type": "stream",
     "text": [
      "7\t2\tspacing: 8.888194417315589\n",
      "7\t3\tspacing: 8.888194417315589\n"
     ]
    },
    {
     "name": "stderr",
     "output_type": "stream",
     "text": [
      "C:\\Users\\sw_ya\\AppData\\Local\\Temp\\ipykernel_6840\\1282987135.py:47: DeprecationWarning: Call to deprecated function topods_Edge since pythonocc-core 7.7.1. This function will be removed in a future release, please rather use the static method topods.Edge\n",
      "  edge = topods_Edge(explorer.Current())\n",
      "C:\\Users\\sw_ya\\AppData\\Local\\Temp\\ipykernel_6840\\1282987135.py:47: DeprecationWarning: Call to deprecated function topods_Edge since pythonocc-core 7.7.1. This function will be removed in a future release, please rather use the static method topods.Edge\n",
      "  edge = topods_Edge(explorer.Current())\n"
     ]
    },
    {
     "name": "stdout",
     "output_type": "stream",
     "text": [
      "7\t4\tspacing: 8.888194417315589\n",
      "7\t5\tspacing: 8.888194417315589\n"
     ]
    },
    {
     "name": "stderr",
     "output_type": "stream",
     "text": [
      "C:\\Users\\sw_ya\\AppData\\Local\\Temp\\ipykernel_6840\\1282987135.py:47: DeprecationWarning: Call to deprecated function topods_Edge since pythonocc-core 7.7.1. This function will be removed in a future release, please rather use the static method topods.Edge\n",
      "  edge = topods_Edge(explorer.Current())\n",
      "C:\\Users\\sw_ya\\AppData\\Local\\Temp\\ipykernel_6840\\1282987135.py:47: DeprecationWarning: Call to deprecated function topods_Edge since pythonocc-core 7.7.1. This function will be removed in a future release, please rather use the static method topods.Edge\n",
      "  edge = topods_Edge(explorer.Current())\n"
     ]
    },
    {
     "name": "stdout",
     "output_type": "stream",
     "text": [
      "7\t6\tspacing: 8.888194417315589\n",
      "7\t7\tspacing: 8.888194417315589\n"
     ]
    },
    {
     "name": "stderr",
     "output_type": "stream",
     "text": [
      "C:\\Users\\sw_ya\\AppData\\Local\\Temp\\ipykernel_6840\\1282987135.py:47: DeprecationWarning: Call to deprecated function topods_Edge since pythonocc-core 7.7.1. This function will be removed in a future release, please rather use the static method topods.Edge\n",
      "  edge = topods_Edge(explorer.Current())\n",
      "C:\\Users\\sw_ya\\AppData\\Local\\Temp\\ipykernel_6840\\1282987135.py:47: DeprecationWarning: Call to deprecated function topods_Edge since pythonocc-core 7.7.1. This function will be removed in a future release, please rather use the static method topods.Edge\n",
      "  edge = topods_Edge(explorer.Current())\n"
     ]
    },
    {
     "name": "stdout",
     "output_type": "stream",
     "text": [
      "7\t8\tspacing: 8.888194417315589\n",
      "7\t9\tspacing: 8.888194417315589\n"
     ]
    },
    {
     "name": "stderr",
     "output_type": "stream",
     "text": [
      "C:\\Users\\sw_ya\\AppData\\Local\\Temp\\ipykernel_6840\\1282987135.py:47: DeprecationWarning: Call to deprecated function topods_Edge since pythonocc-core 7.7.1. This function will be removed in a future release, please rather use the static method topods.Edge\n",
      "  edge = topods_Edge(explorer.Current())\n",
      "C:\\Users\\sw_ya\\AppData\\Local\\Temp\\ipykernel_6840\\1282987135.py:47: DeprecationWarning: Call to deprecated function topods_Edge since pythonocc-core 7.7.1. This function will be removed in a future release, please rather use the static method topods.Edge\n",
      "  edge = topods_Edge(explorer.Current())\n"
     ]
    },
    {
     "name": "stdout",
     "output_type": "stream",
     "text": [
      "7\t10\tspacing: 8.888194417315587\n",
      "No edges found in the intersection shape. 7\n",
      "Face orientation: 0\n",
      "No edges found in the intersection shape. 8\n",
      "8\t2\tspacing: 8.888194417315589\n"
     ]
    },
    {
     "name": "stderr",
     "output_type": "stream",
     "text": [
      "C:\\Users\\sw_ya\\AppData\\Local\\Temp\\ipykernel_6840\\1688185976.py:5: DeprecationWarning: Call to deprecated function topods_Face since pythonocc-core 7.7.1. This function will be removed in a future release, please rather use the static method topods.Face\n",
      "  face = topods_Face(face)\n",
      "C:\\Users\\sw_ya\\AppData\\Local\\Temp\\ipykernel_6840\\144608263.py:11: DeprecationWarning: Call to deprecated function topods_Edge since pythonocc-core 7.7.1. This function will be removed in a future release, please rather use the static method topods.Edge\n",
      "  edge = topods_Edge(edge_explorer.Current())\n",
      "C:\\Users\\sw_ya\\AppData\\Local\\Temp\\ipykernel_6840\\144608263.py:11: DeprecationWarning: Call to deprecated function topods_Edge since pythonocc-core 7.7.1. This function will be removed in a future release, please rather use the static method topods.Edge\n",
      "  edge = topods_Edge(edge_explorer.Current())\n",
      "C:\\Users\\sw_ya\\AppData\\Local\\Temp\\ipykernel_6840\\144608263.py:11: DeprecationWarning: Call to deprecated function topods_Edge since pythonocc-core 7.7.1. This function will be removed in a future release, please rather use the static method topods.Edge\n",
      "  edge = topods_Edge(edge_explorer.Current())\n",
      "C:\\Users\\sw_ya\\AppData\\Local\\Temp\\ipykernel_6840\\1282987135.py:47: DeprecationWarning: Call to deprecated function topods_Edge since pythonocc-core 7.7.1. This function will be removed in a future release, please rather use the static method topods.Edge\n",
      "  edge = topods_Edge(explorer.Current())\n",
      "C:\\Users\\sw_ya\\AppData\\Local\\Temp\\ipykernel_6840\\1282987135.py:47: DeprecationWarning: Call to deprecated function topods_Edge since pythonocc-core 7.7.1. This function will be removed in a future release, please rather use the static method topods.Edge\n",
      "  edge = topods_Edge(explorer.Current())\n",
      "C:\\Users\\sw_ya\\AppData\\Local\\Temp\\ipykernel_6840\\1282987135.py:47: DeprecationWarning: Call to deprecated function topods_Edge since pythonocc-core 7.7.1. This function will be removed in a future release, please rather use the static method topods.Edge\n",
      "  edge = topods_Edge(explorer.Current())\n"
     ]
    },
    {
     "name": "stdout",
     "output_type": "stream",
     "text": [
      "8\t3\tspacing: 8.888194417315589\n",
      "8\t4\tspacing: 8.888194417315589\n"
     ]
    },
    {
     "name": "stderr",
     "output_type": "stream",
     "text": [
      "C:\\Users\\sw_ya\\AppData\\Local\\Temp\\ipykernel_6840\\1282987135.py:47: DeprecationWarning: Call to deprecated function topods_Edge since pythonocc-core 7.7.1. This function will be removed in a future release, please rather use the static method topods.Edge\n",
      "  edge = topods_Edge(explorer.Current())\n",
      "C:\\Users\\sw_ya\\AppData\\Local\\Temp\\ipykernel_6840\\1282987135.py:47: DeprecationWarning: Call to deprecated function topods_Edge since pythonocc-core 7.7.1. This function will be removed in a future release, please rather use the static method topods.Edge\n",
      "  edge = topods_Edge(explorer.Current())\n"
     ]
    },
    {
     "name": "stdout",
     "output_type": "stream",
     "text": [
      "8\t5\tspacing: 8.888194417315589\n",
      "8\t6\tspacing: 8.888194417315589\n"
     ]
    },
    {
     "name": "stderr",
     "output_type": "stream",
     "text": [
      "C:\\Users\\sw_ya\\AppData\\Local\\Temp\\ipykernel_6840\\1282987135.py:47: DeprecationWarning: Call to deprecated function topods_Edge since pythonocc-core 7.7.1. This function will be removed in a future release, please rather use the static method topods.Edge\n",
      "  edge = topods_Edge(explorer.Current())\n",
      "C:\\Users\\sw_ya\\AppData\\Local\\Temp\\ipykernel_6840\\1282987135.py:47: DeprecationWarning: Call to deprecated function topods_Edge since pythonocc-core 7.7.1. This function will be removed in a future release, please rather use the static method topods.Edge\n",
      "  edge = topods_Edge(explorer.Current())\n"
     ]
    },
    {
     "name": "stdout",
     "output_type": "stream",
     "text": [
      "8\t7\tspacing: 8.888194417315589\n",
      "8\t8\tspacing: 8.888194417315589\n"
     ]
    },
    {
     "name": "stderr",
     "output_type": "stream",
     "text": [
      "C:\\Users\\sw_ya\\AppData\\Local\\Temp\\ipykernel_6840\\1282987135.py:47: DeprecationWarning: Call to deprecated function topods_Edge since pythonocc-core 7.7.1. This function will be removed in a future release, please rather use the static method topods.Edge\n",
      "  edge = topods_Edge(explorer.Current())\n",
      "C:\\Users\\sw_ya\\AppData\\Local\\Temp\\ipykernel_6840\\1282987135.py:47: DeprecationWarning: Call to deprecated function topods_Edge since pythonocc-core 7.7.1. This function will be removed in a future release, please rather use the static method topods.Edge\n",
      "  edge = topods_Edge(explorer.Current())\n"
     ]
    },
    {
     "name": "stdout",
     "output_type": "stream",
     "text": [
      "8\t9\tspacing: 8.888194417315589\n",
      "8\t10\tspacing: 8.888194417315589\n"
     ]
    },
    {
     "name": "stderr",
     "output_type": "stream",
     "text": [
      "C:\\Users\\sw_ya\\AppData\\Local\\Temp\\ipykernel_6840\\1282987135.py:47: DeprecationWarning: Call to deprecated function topods_Edge since pythonocc-core 7.7.1. This function will be removed in a future release, please rather use the static method topods.Edge\n",
      "  edge = topods_Edge(explorer.Current())\n"
     ]
    },
    {
     "name": "stdout",
     "output_type": "stream",
     "text": [
      "8\t11\tspacing: 8.888194417315589\n"
     ]
    }
   ],
   "source": [
    "face_index = 0\n",
    "display, start_display, add_menu, add_function_to_menu = init_display()\n",
    "display.DisplayShape(object_1, update=True)\n",
    "for face in object_1_faces:\n",
    "    face = topods_Face(face)\n",
    "    print(\"Face orientation:\", face.Orientation())\n",
    "    face_index += 1\n",
    "    \n",
    "    selected_edge = edges(face) ################\n",
    "    \n",
    "    curve_adaptor = BRepAdaptor_Curve(selected_edge)\n",
    "    length = curve_adaptor.LastParameter() - curve_adaptor.FirstParameter()\n",
    "    # 指定的資料夾\n",
    "    directory = r\"C:\\alan\\ITRI\\IRTI_path_generation\\路徑結果\"  # 更改为你的目录路径\n",
    "    Name = \"simple3_drive10\"  # 更改为你的文件名\n",
    "\n",
    "    \n",
    "    calculate_section(face=face, length=length, curve_adaptor=curve_adaptor, name=os.path.join(directory, Name ), plane_spacing = 10.0, point_spacing = 15.0, is_save=True, is_display=True)\n",
    "    \n",
    "start_display()"
   ]
  },
  {
   "cell_type": "code",
   "execution_count": 63,
   "metadata": {},
   "outputs": [],
   "source": [
    "\n",
    "# face_index = 0\n",
    "# display, start_display, add_menu, add_function_to_menu = init_display()\n",
    "# display.DisplayShape(object_1, update=True)\n",
    "# for face in object_1_faces:\n",
    "#     face = topods_Face(face)\n",
    "#     face_index += 1\n",
    "#     adaptor_surface = BRepAdaptor_Surface(face, True)\n",
    "#     props = BRepLProp_SLProps(adaptor_surface, 2, 0.01)\n",
    "    \n",
    "#     selected_edge = edges(face) ################\n",
    "    \n",
    "#     curve_adaptor = BRepAdaptor_Curve(selected_edge)\n",
    "#     length = curve_adaptor.LastParameter() - curve_adaptor.FirstParameter()\n",
    "    \n",
    "#     num_planes = 5\n",
    "#     spacing = length / (num_planes + 1)    \n",
    "    \n",
    "#     path_index = 0\n",
    "    \n",
    "#     for i in range(1, num_planes + 1):\n",
    "#         path_index += 1\n",
    "#         u = curve_adaptor.FirstParameter() + i * spacing\n",
    "#         pnt = curve_adaptor.Value(u)\n",
    "#         tangent_vector = curve_adaptor.DN(u, 1).Normalized()\n",
    "#         tangent_dir = gp_Dir(tangent_vector)\n",
    "        \n",
    "#         perpendicular_plane = gp_Pln(pnt, tangent_dir)\n",
    "#         perpendicular_face = BRepBuilderAPI_MakeFace(perpendicular_plane, -110, 110, -110, 110).Face()\n",
    "#         display.DisplayShape(perpendicular_face, update=True, color='RED', transparency=0.5)\n",
    "        \n",
    "#         section = BRepAlgoAPI_Section(face, perpendicular_face, False)\n",
    "#         section.ComputePCurveOn1(True)\n",
    "#         section.Build()\n",
    "        \n",
    "#         if section.IsDone():\n",
    "#             intersection_shape = section.Shape()\n",
    "#             display.DisplayShape(intersection_shape, update=True, color='GREEN')\n",
    "            \n",
    "#             explorer = TopExp_Explorer(intersection_shape, TopAbs_EDGE)\n",
    "#             edge = topods_Edge(explorer.Current())\n",
    "#             curve = BRepAdaptor_Curve(edge)\n",
    "            \n",
    "#             num_points = 10\n",
    "#             curve_length = GCPnts_AbscissaPoint.Length(curve, curve.FirstParameter(), curve.LastParameter())\n",
    "#             points = GCPnts_UniformAbscissa(curve, curve_length / num_points, curve.FirstParameter())\n",
    "            \n",
    "#             for j in range(1, num_points + 1):\n",
    "#                 param = points.Parameter(j)\n",
    "#                 point = curve.Value(param)\n",
    "#                 display.DisplayShape(point, update=True, color='YELLOW')\n",
    "                \n",
    "#                 surface_handle = BRep_Tool.Surface(face)\n",
    "#                 projector = GeomAPI_ProjectPointOnSurf(point, surface_handle)\n",
    "                \n",
    "#                 if projector.NbPoints() > 0:\n",
    "#                     u, v = projector.LowerDistanceParameters()\n",
    "#                 else:\n",
    "#                     print(\"No projection found for this point\")\n",
    "                    \n",
    "#                 props.SetParameters(u, v)\n",
    "#                 if props.IsCurvatureDefined():\n",
    "#                     normal = props.Normal()\n",
    "#                 if face.Orientation() == TopAbs_FACE:\n",
    "#                     normal.Reverse()\n",
    "                    \n",
    "#                 with open('cylinder'  + '.txt', 'a') as outfile:\n",
    "#                     outfile.write('\\t' + str(face_index) + '\\t' + str(path_index) +\n",
    "#                                   '\\t' + format(point.X(), \".2f\") + '\\t' + format(point.Y(), \".2f\") + '\\t' + format(point.Z(), \".2f\") +\n",
    "#                                   '\\t' + format(normal.X(), \".2f\") + '\\t' + format(normal.Y(), \".2f\") + '\\t' + format(normal.Z(), \".2f\") + '\\n')\n",
    "        \n",
    "#                 normal_vector = gp_Vec(normal.XYZ())\n",
    "#                 pnt_as_vec = gp_Vec(point.X(), point.Y(), point.Z())\n",
    "#                 start = pnt_as_vec + normal_vector*10\n",
    "#                 pnt_start = gp_Pnt(start.X(), start.Y(), start.Z())\n",
    "        \n",
    "#                 display.DisplayVector(normal_vector, point)\n",
    "# start_display()"
   ]
  },
  {
   "cell_type": "code",
   "execution_count": 64,
   "metadata": {},
   "outputs": [],
   "source": [
    "# ##給定一方向而生成線段\n",
    "\n",
    "# from OCC.Display.SimpleGui import init_display\n",
    "# from OCC.Core.gp import gp_Pnt, gp_Vec, gp_Dir\n",
    "# from OCC.Core.BRepBuilderAPI import BRepBuilderAPI_MakeEdge\n",
    "\n",
    "# # 初始化显示\n",
    "# display, start_display, add_menu, add_function_to_menu = init_display()\n",
    "\n",
    "# # 起点\n",
    "# start_point = gp_Pnt(0, 0, 0)\n",
    "\n",
    "# # 方向和长度\n",
    "# direction = gp_Dir(1, 0, 0)  # 沿 X 方向\n",
    "# length = 5.0  # 线段长度\n",
    "\n",
    "# # 计算结束点\n",
    "# end_point = gp_Pnt(start_point.X() + length * direction.X(),\n",
    "#                    start_point.Y() + length * direction.Y(),\n",
    "#                    start_point.Z() + length * direction.Z())\n",
    "\n",
    "# # 创建线段\n",
    "# edge = BRepBuilderAPI_MakeEdge(start_point, end_point).Edge()\n",
    "\n",
    "# # 显示线段\n",
    "# display.DisplayShape(edge, update=True, color='RED')\n",
    "\n",
    "# # 适应视图\n",
    "# display.FitAll()\n",
    "\n",
    "# # 开始显示\n",
    "# start_display()"
   ]
  }
 ],
 "metadata": {
  "kernelspec": {
   "display_name": "pyoccenv",
   "language": "python",
   "name": "python3"
  },
  "language_info": {
   "codemirror_mode": {
    "name": "ipython",
    "version": 3
   },
   "file_extension": ".py",
   "mimetype": "text/x-python",
   "name": "python",
   "nbconvert_exporter": "python",
   "pygments_lexer": "ipython3",
   "version": "3.8.19"
  }
 },
 "nbformat": 4,
 "nbformat_minor": 2
}
